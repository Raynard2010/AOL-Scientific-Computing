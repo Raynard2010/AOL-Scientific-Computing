import matplotlib.pyplot as plt
import numpy as np

# Problem 1
x = [1,2,3,4,5,6,7,8,9,10,11,12,13,14,15,16,17,18,19,20,21,22,23,24,25,26,27,28,29,30,31,32,33,34,35,36,37,38,39,40,41,42,43,44,45,46,47,48,49,50,51,52,53,54,55,56,57,58,59,60,61,62,63,64,65,66,67,68,69,70,71,72,73,74,75,76,77,78,79,80,81,82,83,84,85,86,87,88,89,90,91,92,93,94,95,96,97,98,99,100,101,102,103,104,105,106,107,108,109,110,111,112,113,114,115,116,117,118,119,120,121,122,123,124,125,126,127,128,129,130,131,132,133,134,135,136,137,138,139,140,141,142,143,144]
y = [1863,1614,2570,1685,2101,1811,2457,2171,2134,2502,2358,2399,2048,2523,2086,2391,2150,2340,3129,2277,2964,2997,2747,2862,3405,2677,2749,2755,2963,3161,3623,2768,3141,3439,3601,3531,3477,3376,4027,3175,3274,3334,3964,3649,3502,3688,3657,4422,4197,4441,4736,4521,4485,4644,5036,4876,4789,4544,4975,5211,4880,4933,5079,5339,5232,5520,5714,5260,6110,5334,5988,6235,6365,6266,6345,6118,6497,6278,6638,6590,6271,7246,6584,6594,7092,7326,7409,7976,7959,8012,8195,8008,8313,7791,8368,8933,8756,8613,8705,9098,8769,9544,9050,9186,10012,9685,9966,10048,10244,10740,10318,10393,10986,10635,10731,11749,11849,12123,12274,11666,11960,12629,12915,13051,13387,13309,13732,13162,13644,13808,14101,13992,15191,15018,14917,15046,15556,15893,16388,16782,16716,17033,16896,17689]

x = np.array(x)
y = np.array(y)

plt.plot(x, y, 'b-')
plt.xlabel('Time (in 1/2 month)')
plt.ylabel('Number of production')
plt.legend(['Monthly production'])
print('Problem 1')
plt.show()

# Problem 2
from numpy.polynomial.polynomial import Polynomial
import math

coefficients = np.polyfit(x, y, 3) # 3 = degree

p = Polynomial(coefficients[::-1])
# p = fungsi

print('Problem 2')

print('Fungsi polynomial: ', p)
# Dapet p = # 1748.50672302 + 47.22355255·x - 0.13435703·x² + 0.00386327·x³
# Turunan ke 1 = 47.22355255 - 0.13435703 * 2·x + 0.00386327 * 3·x²
# Turunan ke 2 = -0.13435703 * 2 + 0.00386327 * 3 * 2·x
# Turunan ke 3 = 0.00386327 * 3 * 2
# x = 0, pakai maclaurin

maclaurin = p(0) + (47.22355255 * x) + ((-0.13435703 * 2 / math.factorial(2)) * (x ** 2)) + ((0.00386327 * 6 / math.factorial(3)) * (x ** 3))

plt.plot(x, y, 'b-')
plt.plot(x, maclaurin, 'r--')
plt.xlabel('Time (in 1/2 month)')
plt.ylabel('Number of production')
plt.legend(['Monthly production', 'Maclaurin Series Approximation'])
plt.show()

# Problem 3
# Cari root(x) saat p(x) = 25000, maka p(x) - 25000 = 0
print('Problem 3')

def f(x):
  return p(x) - 25000
def g(x): # turunan f(x)
  return 47.22355255 - 0.13435703 * 2 * x + 0.00386327 * 3 * x ** 2

def newton_raphson(x0, tolerance): # fungsi untuk cari root
  x1 = x0 - f(x0) / g(x0)

  if np.abs(f(x1)) < tolerance:
    print("Root = ", x1)
    return
  newton_raphson(x1, tolerance)

newton_raphson(200, 0.001)

# Tes jumlah tas saat month ke 170
maclaurintest = p(0) + (47.22355255 * 170) + ((-0.13435703 * 2 / math.factorial(2)) * (170 ** 2)) + ((0.00386327 * 6 / math.factorial(3)) * (170 ** 3))
print('Jumlah tas saat m ke 170 = ', maclaurintest)

# Pas month ke 171, sudah lebih dari 25000
# Karena butuh 13 bulan buat bangun warehouse baru, jadi warehouse harus dimulai dibangun di m ke...
# 170 - 13 * 2 = 144
# Warehouse harus mulai dibangun di m ke 157 (month ke 144 / 2 = 72)
print('Karena butuh 13 bulan buat bangun warehouse baru, jadi warehouse harus dimulai dibangun di m ke 170 - 13 * 2 = 144')
print('m ke 144 = month ke 72')
print('Warehouse harus mulai dibangun di month ke 72 (Desember 2023)')
